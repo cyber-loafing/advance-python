{
 "cells": [
  {
   "cell_type": "markdown",
   "source": [
    "## Iterator\n",
    "\n",
    "1. 迭代器是一个可以记住遍历的位置的对象。迭代器对象从集合的第一个元素开始访问，直到所有的元素被访问完结束。迭代器只能往前不会后退。迭代器有两个基本的方法：iter() 和 next()。字符串，列表或元组对象都可用于创建迭代器"
   ],
   "metadata": {
    "collapsed": false
   }
  },
  {
   "cell_type": "code",
   "execution_count": 8,
   "metadata": {
    "collapsed": true
   },
   "outputs": [
    {
     "name": "stdout",
     "output_type": "stream",
     "text": [
      "1,2,3,4,"
     ]
    }
   ],
   "source": [
    "# 使用iter()与next()函数\n",
    "arr = [1,2,3,4]\n",
    "it = iter(arr)\n",
    "print(next(it),end=\",\") # 1\n",
    "print(next(it), end=\",\") # 2\n",
    "for x in it:\n",
    "    print(x,end=\",\") # 3 4"
   ]
  },
  {
   "cell_type": "markdown",
   "source": [
    "2. 创建一个迭代器，我们使用一个类，该类必须实现两个方法 __iter__() 与 __next__()。"
   ],
   "metadata": {
    "collapsed": false
   }
  },
  {
   "cell_type": "code",
   "execution_count": 10,
   "outputs": [
    {
     "name": "stdout",
     "output_type": "stream",
     "text": [
      "1,2,3,"
     ]
    }
   ],
   "source": [
    "class MyNumbers:\n",
    "    def __iter__(self):\n",
    "        self.a = 1\n",
    "        return self\n",
    "    def __next__(self):\n",
    "        if self.a <= 3:\n",
    "            x = self.a\n",
    "            self.a += 1\n",
    "            return x\n",
    "        else:\n",
    "            raise StopIteration # StopIteration异常用于标识迭代的完成\n",
    "\n",
    "myclass = MyNumbers()\n",
    "myiter = iter(myclass)\n",
    "for x in myiter:\n",
    "    print(x,end=\",\") # 3"
   ],
   "metadata": {
    "collapsed": false
   }
  },
  {
   "cell_type": "markdown",
   "source": [
    "## Generator\n",
    "生成器可以认为是一个简化版的迭代器, 生成器的实现是基于函数. 再函数中使用关键字“yield” 而不是通常用的return. yield作为生成器执行的暂停恢复点, 每次调用next, 生成器函数执行到yield语句, 会挂起,并保存当前的上下文信息. 知道下一个next触发生成器继续执行."
   ],
   "metadata": {
    "collapsed": false
   }
  },
  {
   "cell_type": "code",
   "execution_count": 11,
   "outputs": [
    {
     "name": "stdout",
     "output_type": "stream",
     "text": [
      "0,1,4,"
     ]
    }
   ],
   "source": [
    "# 生成器函数\n",
    "def my_gen():\n",
    "    for x in range(3):\n",
    "        yield x * x\n",
    "\n",
    "mygen = my_gen()\n",
    "for x in mygen:\n",
    "    print(x,end=\",\") # 0 1 4\n"
   ],
   "metadata": {
    "collapsed": false
   }
  }
 ],
 "metadata": {
  "kernelspec": {
   "display_name": "Python 3",
   "language": "python",
   "name": "python3"
  },
  "language_info": {
   "codemirror_mode": {
    "name": "ipython",
    "version": 2
   },
   "file_extension": ".py",
   "mimetype": "text/x-python",
   "name": "python",
   "nbconvert_exporter": "python",
   "pygments_lexer": "ipython2",
   "version": "2.7.6"
  }
 },
 "nbformat": 4,
 "nbformat_minor": 0
}

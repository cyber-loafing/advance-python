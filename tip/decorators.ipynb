{
 "cells": [
  {
   "cell_type": "markdown",
   "source": [
    "## 概念\n",
    "\n",
    "装饰器是给现有的模块增添新的小功能，可以对原函数进行功能扩展，而且还不需要修改原函数的内容，也不需要修改原函数的调用。\n",
    "\n",
    "装饰器的使用符合了面向对象编程的开放封闭原则。\n",
    "\n",
    "> 开放封闭原则主要体现在两个方面：\n",
    "> - 对扩展开放，意味着有新的需求或变化时，可以对现有代码进行扩展，以适应新的情况。\n",
    "> - 对修改封闭，意味着类一旦设计完成，就可以独立其工作，而不要对类尽任何修改。\n",
    "\n",
    "### 拓展：函数闭包\n",
    "在Python中，函数是一等对象，函数可以作为参数传递给另一个函数，函数可以作为另一个函数的返回值。函数闭包是指函数可以访问其外部作用域中的变量。闭包函数有以下几个特点：\n",
    "1. 闭包函数是函数的嵌套，函数内还有函数，即外层函数嵌套一个内层函数\n",
    "2. 在外层函数定义局部变量，在内层函数通过nonlocal引用，并实现指定功能，比如计数\n",
    "3. 最后外层函数return内层函数\n",
    "4. 主要作用：可以变相实现私有变量的功能，即用内层函数访问外层函数内的变量，并让外层函数内的变量常驻内存\n",
    "\n",
    "比如下面代码中闭包函数之所以可以实现让外层函数内的变量常驻内存，关键就是其定义了个*内层函数*，并通过内层函数访问外层函数的变量，并最后由外层函数将内层函数返回出去并赋值给另外一个变量。*此时因为内层函数被赋值给一个变量，其内存空间不会被释放*，而内层函数又在其函数体内*引用了外层函数的变量*，导致该变量的内存也不会被回收。"
   ],
   "metadata": {
    "collapsed": false
   }
  },
  {
   "cell_type": "code",
   "execution_count": 1,
   "outputs": [
    {
     "name": "stdout",
     "output_type": "stream",
     "text": [
      "1 2 3 4 5 6 7 8 9 10 "
     ]
    }
   ],
   "source": [
    "#外层函数\n",
    "def outter_func():\n",
    "    #定义外层函数的局部变量\n",
    "    a=0\n",
    "    #定义一个内层函数\n",
    "    def inner_func():\n",
    "        #声明下在内层函数内，a变量指向到外层函数的a\n",
    "        nonlocal a\n",
    "        a+=1\n",
    "        print(a, end=' ')\n",
    "    #返回内层函数\n",
    "    return inner_func # 注意：这里返回的是函数对象，而不是函数的调用\n",
    "\n",
    "counter=outter_func() # counter是inner_func函数对象，counter = inner_func\n",
    "for i in range(10):\n",
    "    counter()"
   ],
   "metadata": {
    "collapsed": false
   }
  },
  {
   "cell_type": "markdown",
   "source": [
    "#### 如何判断闭包函数"
   ],
   "metadata": {
    "collapsed": false
   }
  },
  {
   "cell_type": "code",
   "execution_count": 4,
   "outputs": [
    {
     "name": "stdout",
     "output_type": "stream",
     "text": [
      "(<cell at 0x000001C5A0B33100: int object at 0x000001C59C2100D0>,)\n",
      "1 "
     ]
    }
   ],
   "source": [
    "def outter_func():\n",
    "    #定义外层函数的局部变量\n",
    "    a=0\n",
    "    #定义一个内层函数\n",
    "    def inner_func():\n",
    "        #声明下在内层函数内，a变量指向到外层函数的a\n",
    "        nonlocal a\n",
    "        a+=1\n",
    "        print(a, end=' ')\n",
    "    #返回内层函数\n",
    "    print(inner_func.__closure__) # 判断是否是闭包函数，如果是闭包函数，返回的是cell对象，否则返回None\n",
    "    return inner_func # 注意：这里返回的是函数对象，而不是函数的调用\n",
    "\n",
    "counter=outter_func() # counter是inner_func函数对象，counter = inner_func\n",
    "counter()"
   ],
   "metadata": {
    "collapsed": false
   }
  },
  {
   "cell_type": "markdown",
   "source": [
    "\n",
    "### 函数装饰器的实现\n",
    "函数装饰器的实现主要是通过闭包函数实现的，即在外层函数中定义一个内层函数，内层函数实现具体的功能，外层函数返回内层函数。在外层函数中可以传入一个函数作为参数，然后在内层函数中调用这个函数，并实现具体的功能。"
   ],
   "metadata": {
    "collapsed": false
   }
  },
  {
   "cell_type": "code",
   "execution_count": 9,
   "outputs": [
    {
     "name": "stdout",
     "output_type": "stream",
     "text": [
      "开始运行add函数\n",
      "1 + 2 = 3\n",
      "add运行时间为：1.0080552101135254\n",
      "add\n"
     ]
    }
   ],
   "source": [
    "# 最终版本\n",
    "from functools import wraps\n",
    "import time\n",
    "def count_time(func):\n",
    "    @wraps(func) # 引入wraps，对内层实现装饰器功能的函数进行装饰，主要是将传入的被装饰函数元信息复制给具体实现装饰器功能函数\n",
    "    def wrapper(*args, **kwargs):\n",
    "        print(f'开始运行{func.__name__}函数')\n",
    "        start_time = time.time()\n",
    "        result = func(*args, **kwargs)\n",
    "        end_time = time.time()\n",
    "        print(f'{func.__name__}运行时间为：{end_time - start_time}')\n",
    "        return result\n",
    "    return wrapper\n",
    "@count_time\n",
    "def add(a : int, b : int) -> int:\n",
    "    time.sleep(1)\n",
    "    print(f'{a} + {b} = {a + b}')\n",
    "    return a + b\n",
    "\n",
    "add(1, 2)\n",
    "print(add.__name__) # 如果不加wraps，这里会输出wrapper，就是inner函数的名字\n"
   ],
   "metadata": {
    "collapsed": false
   }
  },
  {
   "cell_type": "markdown",
   "source": [
    "#### 带参数的装饰器\n",
    "带参数装饰器，即可以向装饰器传参，以为装饰器赋予个性化定制的特点，根据传入参数不同，装饰器表现行为不同等等，此时，需要再加一层函数嵌套，最外层函数主要实现传参的功能，然后返回第二层函数，此时就又退化成了两层嵌套，即不带参装饰器\n",
    "\n",
    "1. 有三层函数嵌套，最外层函数主要是接受装饰器的参数，实现闭包，常驻内存，供其内层函数使用，然后return 第二层函数\n",
    "2. 第二层函数与不带参情况下，基本一样\n",
    "3. 第三层函数还是最终实现装饰器功能\n"
   ],
   "metadata": {
    "collapsed": false
   }
  },
  {
   "cell_type": "code",
   "execution_count": 10,
   "outputs": [
    {
     "name": "stdout",
     "output_type": "stream",
     "text": [
      "1 + 2 = 3\n",
      "add运行时间为：1.0088813304901123\n"
     ]
    },
    {
     "data": {
      "text/plain": "3"
     },
     "execution_count": 10,
     "metadata": {},
     "output_type": "execute_result"
    }
   ],
   "source": [
    "def dec_with_args(*args): # 第一层函数，接受装饰器的参数，实现闭包，返回第二层函数\n",
    "    def dec(func): # 第二层函数，接受被装饰函数，返回第三层函数，实际上与不带参情况下的装饰器一样 #|\n",
    "        @wraps(func)                                                              #|\n",
    "        def in_dec(*args): # 第三层函数，实现具体装饰器功能                             #|\n",
    "            \"\"\"                                                                   #| 这些位置实际上就是不带参装饰器的实现\n",
    "            your decorator code                                                   #|\n",
    "            \"\"\"                                                                   #|\n",
    "            return func(*args)                                                    #|\n",
    "        return in_dec                                                             #|\n",
    "    return dec\n",
    "\n",
    "# 仍然是计时器的例子, 但是这次我们可以传入参数, 用来控制是否打印函数的名字\n",
    "def count_time_v2(print_func_name: bool = True):\n",
    "    def dec(func):\n",
    "        @wraps(func)\n",
    "        def wrapper(*args, **kwargs):\n",
    "            if print_func_name:\n",
    "                print(f'开始运行{func.__name__}函数')\n",
    "            start_time = time.time()\n",
    "            result = func(*args, **kwargs)\n",
    "            end_time = time.time()\n",
    "            print(f'{func.__name__}运行时间为：{end_time - start_time}')\n",
    "            return result\n",
    "        return wrapper\n",
    "    return dec\n",
    "\n",
    "@count_time_v2(print_func_name=False)\n",
    "def add(a : int, b : int) -> int:\n",
    "    time.sleep(1)\n",
    "    print(f'{a} + {b} = {a + b}')\n",
    "    return a + b\n",
    "add(1, 2)"
   ],
   "metadata": {
    "collapsed": false
   }
  },
  {
   "cell_type": "markdown",
   "source": [
    "#### 对于wraps的实现"
   ],
   "metadata": {
    "collapsed": false
   }
  },
  {
   "cell_type": "code",
   "execution_count": 16,
   "outputs": [
    {
     "name": "stdout",
     "output_type": "stream",
     "text": [
      "开始运行add函数\n",
      "1 + 2 = 3\n",
      "add运行时间为：1.006812334060669\n",
      "add\n"
     ]
    }
   ],
   "source": [
    "def my_wraps(fwrap):\n",
    "    def out_func(func):\n",
    "        def in_func(*args,**kwargs):\n",
    "            return func(*args,**kwargs)\n",
    "        meta_info = ['__module__', '__name__', '__qualname__', '__doc__', '__annotations__']\n",
    "        for meta in meta_info:\n",
    "            setattr(in_func, meta, getattr(fwrap, meta))\n",
    "        return in_func\n",
    "    return out_func\n",
    "\n",
    "def count_time_v3(func):\n",
    "    @my_wraps(func)\n",
    "    def wrapper(*args, **kwargs):\n",
    "        print(f'开始运行{func.__name__}函数')\n",
    "        start_time = time.time()\n",
    "        result = func(*args, **kwargs)\n",
    "        end_time = time.time()\n",
    "        print(f'{func.__name__}运行时间为：{end_time - start_time}')\n",
    "        return result\n",
    "    return wrapper\n",
    "\n",
    "@count_time_v3\n",
    "def add(a : int, b : int) -> int:\n",
    "    time.sleep(1)\n",
    "    print(f'{a} + {b} = {a + b}')\n",
    "    return a + b\n",
    "add(1, 2)\n",
    "print(add.__name__)"
   ],
   "metadata": {
    "collapsed": false
   }
  },
  {
   "cell_type": "markdown",
   "source": [
    "### 类装饰器\n",
    "装饰器还可以通过类来实现，其实主要是利用类的以下特点来变相实现函数装饰器功能：\n",
    "\n",
    "1. 函数调用语语法f()等同于类的实例化，即调用类的__init__函数创建对象\n",
    "2. 对象的调用obj()等同于运行对象的__call__魔法函数\n",
    "3. 通过类实现装饰器，可以避免函数装饰器超过2层的嵌套情况，因为如果有三层的话，最外层函数可以认为是在调用类的__init__函数，这样可以让代码更易读和维护\n",
    "4. 本质，只要实现类的__init__和__call__魔法函数，并在__init__函数内接受装饰器参数，在__call__函数内实现具体装饰器结构即可\n"
   ],
   "metadata": {
    "collapsed": false
   }
  },
  {
   "cell_type": "code",
   "execution_count": 21,
   "outputs": [
    {
     "name": "stdout",
     "output_type": "stream",
     "text": [
      "开始运行add函数\n",
      "1 + 2 = 3\n",
      "add运行时间为：1.0015771389007568\n"
     ]
    },
    {
     "data": {
      "text/plain": "3"
     },
     "execution_count": 21,
     "metadata": {},
     "output_type": "execute_result"
    }
   ],
   "source": [
    "class CountTime:\n",
    "    def __init__(self, func):\n",
    "        self.func = func\n",
    "    def __call__(self, *args, **kwargs):\n",
    "        print(f'开始运行{self.func.__name__}函数')\n",
    "        start_time = time.time()\n",
    "        result = self.func(*args, **kwargs)\n",
    "        end_time = time.time()\n",
    "        print(f'{self.func.__name__}运行时间为：{end_time - start_time}')\n",
    "        return result\n",
    "\n",
    "@CountTime\n",
    "def add(a : int, b : int) -> int:\n",
    "    time.sleep(1)\n",
    "    print(f'{a} + {b} = {a + b}')\n",
    "    return a + b\n",
    "\n",
    "add(1, 2)\n",
    "# print(add.__name__)"
   ],
   "metadata": {
    "collapsed": false
   }
  },
  {
   "cell_type": "markdown",
   "source": [
    "## 使用场景\n",
    "\n",
    "https://blog.csdn.net/weixin_52908342/article/details/136575100\n",
    "\n",
    "### 日志记录"
   ],
   "metadata": {
    "collapsed": false
   }
  },
  {
   "cell_type": "code",
   "execution_count": 23,
   "outputs": [
    {
     "name": "stderr",
     "output_type": "stream",
     "text": [
      "INFO:root:Calling add with args: (3, 4) and kwargs: {}\n",
      "INFO:root:add returned: 7\n"
     ]
    },
    {
     "name": "stdout",
     "output_type": "stream",
     "text": [
      "7\n"
     ]
    }
   ],
   "source": [
    "import logging\n",
    "\n",
    "def log_decorator(func):\n",
    "    def wrapper(*args, **kwargs):\n",
    "        logging.info(f\"Calling {func.__name__} with args: {args} and kwargs: {kwargs}\")\n",
    "        result = func(*args, **kwargs)\n",
    "        logging.info(f\"{func.__name__} returned: {result}\")\n",
    "        return result\n",
    "    return wrapper\n",
    "\n",
    "@log_decorator\n",
    "def add(x, y):\n",
    "    return x + y\n",
    "logging.basicConfig(level=logging.INFO)\n",
    "result = add(3, 4)\n",
    "print(result)  # 输出：7\n"
   ],
   "metadata": {
    "collapsed": false
   }
  },
  {
   "cell_type": "markdown",
   "source": [
    "### 使用装饰器缓存\n",
    "在计算feibo数列的时候，可以使用装饰器缓存，避免重复计算,\n",
    "\n",
    "@lru_cache 是最常见的缓存装饰器。lru_cache 是： Last recently used cache 的简写，可以将该函数最近调用的输入参数以及结果进行缓存。如果有新的调用，先检查缓存是否有相同的输入参数，如果存在，则直接返回对应结果。如果是无参函数，第1次调用后，以后每次调用，直接返回缓存结果。"
   ],
   "metadata": {
    "collapsed": false
   }
  },
  {
   "cell_type": "code",
   "execution_count": 30,
   "outputs": [
    {
     "name": "stdout",
     "output_type": "stream",
     "text": [
      "缓存参数：maxsize=256, typed=True 当前缓存数：0 0\n",
      "缓存参数：maxsize=256, typed=True 当前缓存数：1 1\n",
      "缓存参数：maxsize=256, typed=True 当前缓存数：2 1\n",
      "缓存参数：maxsize=256, typed=True 当前缓存数：3 2\n",
      "缓存参数：maxsize=256, typed=True 当前缓存数：4 3\n",
      "缓存参数：maxsize=256, typed=True 当前缓存数：5 5\n",
      "缓存参数：maxsize=256, typed=True 当前缓存数：6 8\n",
      "缓存参数：maxsize=256, typed=True 当前缓存数：7 13\n",
      "缓存参数：maxsize=256, typed=True 当前缓存数：8 21\n",
      "缓存参数：maxsize=256, typed=True 当前缓存数：9 34\n"
     ]
    }
   ],
   "source": [
    "from functools import lru_cache\n",
    "\n",
    "def cache_with_parameters(maxsize=128, typed=False):\n",
    "    def decorator(func):\n",
    "        @lru_cache(maxsize=maxsize, typed=typed)\n",
    "        def wrapper(*args, **kwargs):\n",
    "            print(f\"缓存参数：maxsize={maxsize}, typed={typed}\", end=' ')\n",
    "            # 当前使用了多少缓存\n",
    "            print(f\"当前缓存数：{wrapper.cache_info().currsize}\", end=' ')\n",
    "            result = func(*args, **kwargs)\n",
    "            return result\n",
    "        return wrapper\n",
    "    return decorator\n",
    "\n",
    "@cache_with_parameters(maxsize=256, typed=True)\n",
    "def fibonacci(n):\n",
    "    if n <= 1:\n",
    "        return n\n",
    "    else:\n",
    "        return fibonacci(n-1) + fibonacci(n-2)\n",
    "\n",
    "for i in range(10):\n",
    "    print(fibonacci(i))"
   ],
   "metadata": {
    "collapsed": false
   }
  }
 ],
 "metadata": {
  "kernelspec": {
   "display_name": "Python 3",
   "language": "python",
   "name": "python3"
  },
  "language_info": {
   "codemirror_mode": {
    "name": "ipython",
    "version": 2
   },
   "file_extension": ".py",
   "mimetype": "text/x-python",
   "name": "python",
   "nbconvert_exporter": "python",
   "pygments_lexer": "ipython2",
   "version": "2.7.6"
  }
 },
 "nbformat": 4,
 "nbformat_minor": 0
}

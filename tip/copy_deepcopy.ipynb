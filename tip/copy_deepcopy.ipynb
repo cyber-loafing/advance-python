{
 "cells": [
  {
   "cell_type": "markdown",
   "source": [
    "## 浅复制\n",
    "首先明确两个概念：等于赋值和深复制。\n",
    "- 等于赋值，并不会产生一个独立的对象单独存在，他只是将原有的数据块打上一个新标签，所以当其中一个标签被改变的时候，数据块就会发生变化，另一个标签也会随之改变。对于不可变对象，等于赋值和深复制没有区别。但是对于可变对象，等于赋值其实是将两个变量指向同一个对象，所以一个变量改变，另一个变量也会改变。\n",
    "- 深复制(deep copy)，即将被复制对象完全再复制一遍作为独立的新个体单独存在。所以改变原有被复制对象不会对已经复制出来的新对象产生影响。\n",
    "- 浅复制(shallow copy)需要分情况\n",
    "    1. 当浅复制的值是不可变对象（数值，字符串，元组）时和“等于赋值”的情况一样，对象的id值与浅复制原来的值相同。当原值发生改变时，浅复制的值不会发生变化。\n",
    "    2. 当浅复制的值是可变对象（列表和元组）时会产生一个“不是那么独立的对象”存在。有两种情况：\n",
    "        1. 复制的 对象中**无复杂子对象** ，原来值的改变并不会影响浅复制的值，同时浅复制的值改变也并不会影响原来的值。原来值的id值与浅复制原来的值不同。\n",
    "       2. 复制的对象中有复杂子对象 （例如列表中的一个子元素是一个列表），如果不改变其中复杂子对象，浅复制的值改变并不会影响原来的值。 但是改变原来的值 中的复杂子对象的值  会影响浅复制的值。\n",
    "\n",
    "\n",
    "建议，对于不可变对象，直接使用等于赋值，对于可变对象，如果不需要改变原来的值，使用浅复制，如果需要改变原来的值，使用深复制。\n",
    "\n",
    "对于多层嵌套对象一定要使用深拷贝"
   ],
   "metadata": {
    "collapsed": false
   }
  },
  {
   "cell_type": "code",
   "execution_count": 5,
   "metadata": {
    "collapsed": true
   },
   "outputs": [
    {
     "name": "stdout",
     "output_type": "stream",
     "text": [
      "2796225364496\n",
      "2796225364496\n",
      "10 20\n",
      "2796225364496\n",
      "2796225364816\n",
      "2796296201200\n"
     ]
    }
   ],
   "source": [
    "# 浅复制,不可变对象\n",
    "a = 10\n",
    "b = a\n",
    "print(id(a))\n",
    "print(id(b))\n",
    "b = 20\n",
    "print(a, b)\n",
    "print(id(a))\n",
    "print(id(b))\n",
    "a = 'hello'\n",
    "print(id(a))"
   ]
  },
  {
   "cell_type": "code",
   "execution_count": 11,
   "outputs": [
    {
     "name": "stdout",
     "output_type": "stream",
     "text": [
      "2796308855296\n",
      "2796308855296\n",
      "2796309106176\n",
      "2796308975168\n",
      "[10, 2, 3] [10, 2, 3] [1, 2, 3] [1, 2, 3]\n"
     ]
    }
   ],
   "source": [
    "# 浅复制，可变对象,无复杂子对象\n",
    "import copy\n",
    "a = [1, 2, 3]\n",
    "b = a\n",
    "c = a.copy()\n",
    "d = copy.deepcopy(a)\n",
    "print(id(a))\n",
    "print(id(b))\n",
    "print(id(c))\n",
    "print(id(d))\n",
    "b[0] = 10\n",
    "print(a, b, c, d) # 注意这里的c,d的值并没有发生变化,证明对于无复杂子对象的可变对象，浅复制和深复制是一样的"
   ],
   "metadata": {
    "collapsed": false
   }
  },
  {
   "cell_type": "code",
   "execution_count": 13,
   "outputs": [
    {
     "name": "stdout",
     "output_type": "stream",
     "text": [
      "2796308854080\n",
      "2796308854080\n",
      "2796306020096\n",
      "2796308719296\n",
      "[10, 2, [30, 4]] [10, 2, [30, 4]] [1, 2, [30, 4]] [1, 2, [3, 4]]\n"
     ]
    }
   ],
   "source": [
    "# 浅复制，可变对象,有复杂子对象\n",
    "a = [1, 2, [3, 4]]\n",
    "b = a\n",
    "c = a.copy()\n",
    "d = copy.deepcopy(a)\n",
    "print(id(a))\n",
    "print(id(b))\n",
    "print(id(c))\n",
    "print(id(d))\n",
    "b[0] = 10\n",
    "b[2][0] = 30\n",
    "print(a, b, c, d) # 注意这里的c的值由于有复杂子对象，所以发生了变化，但是d的值并没有发生变化，证明对于有复杂子对象的可变对象，浅复制和深复制是不一样的"
   ],
   "metadata": {
    "collapsed": false
   }
  },
  {
   "cell_type": "code",
   "execution_count": null,
   "outputs": [],
   "source": [],
   "metadata": {
    "collapsed": false
   }
  }
 ],
 "metadata": {
  "kernelspec": {
   "display_name": "Python 3",
   "language": "python",
   "name": "python3"
  },
  "language_info": {
   "codemirror_mode": {
    "name": "ipython",
    "version": 2
   },
   "file_extension": ".py",
   "mimetype": "text/x-python",
   "name": "python",
   "nbconvert_exporter": "python",
   "pygments_lexer": "ipython2",
   "version": "2.7.6"
  }
 },
 "nbformat": 4,
 "nbformat_minor": 0
}

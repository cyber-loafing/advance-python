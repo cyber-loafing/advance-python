{
 "cells": [
  {
   "cell_type": "markdown",
   "source": [
    "## 使用dataclass"
   ],
   "metadata": {
    "collapsed": false
   }
  },
  {
   "cell_type": "markdown",
   "source": [
    "1. 当我们不使用dataclass时，我们需要定义一个类，然后定义__init__方法，然后定义__repr__方法，这样很麻烦,尤其是这个数据需要增加数据时，你需要重写以下所有的魔法方法"
   ],
   "metadata": {
    "collapsed": false
   }
  },
  {
   "cell_type": "code",
   "execution_count": 5,
   "outputs": [
    {
     "name": "stdout",
     "output_type": "stream",
     "text": [
      "ManualComment(name='name', email='email', comment='comment')\n"
     ]
    }
   ],
   "source": [
    "class ManualComment:\n",
    "    def __init__(self, name: str, email: str, comment: str):\n",
    "        self.name = name\n",
    "        self.email = email\n",
    "        self.comment = comment\n",
    "\n",
    "    def __repr__(self):\n",
    "        return f'{self.__class__.__name__}(name={self.name!r}, email={self.email!r}, comment={self.comment!r})'\n",
    "\n",
    "    def __eq__(self, other):\n",
    "        if not isinstance(other, ManualComment):\n",
    "            return NotImplemented\n",
    "        return self.name == other.name and self.email == other.email and self.comment == other.comment\n",
    "\n",
    "    def __ne__(self, other):\n",
    "        result = self.__eq__(other)\n",
    "        if result is NotImplemented:\n",
    "            return NotImplemented\n",
    "        return not result\n",
    "\n",
    "comment = ManualComment('name', 'email', 'comment')\n",
    "print(comment)"
   ],
   "metadata": {
    "collapsed": false
   }
  },
  {
   "cell_type": "markdown",
   "source": [
    "2. 使用dataclass，我们只需要定义一个类，然后使用dataclass装饰器，然后定义字段，这样就可以自动生成__init__方法和__repr__方法\n",
    "3. [dataclass官方文档](https://docs.python.org/zh-cn/3.10/library/dataclasses.html?highlight=dataclass#module-dataclasses)"
   ],
   "metadata": {
    "collapsed": false
   }
  },
  {
   "cell_type": "code",
   "execution_count": 18,
   "outputs": [
    {
     "name": "stdout",
     "output_type": "stream",
     "text": [
      "False\n",
      "True\n",
      "[Comment(name='Alice', email='45678@gmail.com', comment='EFGH'),\n",
      " Comment(name='Bob', email='1234@gmail.com', comment='ABCD'),\n",
      " Comment(name='Bob', email='1234@gmail.com', comment='ABCD')]\n",
      "[('__delattr__',\n",
      "  <bound method Comment.__delattr__ of Comment(name='Bob', email='1234@gmail.com', comment='ABCD')>),\n",
      " ('__eq__',\n",
      "  <bound method Comment.__eq__ of Comment(name='Bob', email='1234@gmail.com', comment='ABCD')>),\n",
      " ('__ge__',\n",
      "  <bound method Comment.__ge__ of Comment(name='Bob', email='1234@gmail.com', comment='ABCD')>),\n",
      " ('__gt__',\n",
      "  <bound method Comment.__gt__ of Comment(name='Bob', email='1234@gmail.com', comment='ABCD')>),\n",
      " ('__hash__',\n",
      "  <bound method Comment.__hash__ of Comment(name='Bob', email='1234@gmail.com', comment='ABCD')>),\n",
      " ('__init__',\n",
      "  <bound method Comment.__init__ of Comment(name='Bob', email='1234@gmail.com', comment='ABCD')>),\n",
      " ('__le__',\n",
      "  <bound method Comment.__le__ of Comment(name='Bob', email='1234@gmail.com', comment='ABCD')>),\n",
      " ('__lt__',\n",
      "  <bound method Comment.__lt__ of Comment(name='Bob', email='1234@gmail.com', comment='ABCD')>),\n",
      " ('__repr__',\n",
      "  <bound method Comment.__repr__ of Comment(name='Bob', email='1234@gmail.com', comment='ABCD')>),\n",
      " ('__setattr__',\n",
      "  <bound method Comment.__setattr__ of Comment(name='Bob', email='1234@gmail.com', comment='ABCD')>)]\n",
      "Comment(name='Tom', email='1234@gmail.com', comment='ABCD')\n",
      "Comment(name='Bob', email='1234@gmail.com', comment='ABCD')\n"
     ]
    }
   ],
   "source": [
    "from dataclasses import dataclass\n",
    "import dataclasses\n",
    "from pprint import pprint\n",
    "import inspect\n",
    "\n",
    "@dataclass(frozen=True, order=True) # frozen的含义是冻结该类，不可变，order的含义是可以排序\n",
    "class Comment:\n",
    "    name: str\n",
    "    email: str\n",
    "    comment: str\n",
    "\n",
    "comment1 = Comment('Bob', '1234@gmail.com', 'ABCD')\n",
    "comment2 = Comment('Alice', '45678@gmail.com', 'EFGH')\n",
    "comment3 = Comment('Bob', '1234@gmail.com', 'ABCD')\n",
    "print(comment1 == comment2)\n",
    "print(comment1 == comment3)\n",
    "pprint(sorted([comment1, comment2, comment3]))\n",
    "pprint(inspect.getmembers(comment1, inspect.ismethod)) # 打印所有方法\n",
    "# 当使用frozen=True时，会自动生成__hash__方法，我们可以通过dataclass.replace方法来修改字段的值，但是不会修改字段的值\n",
    "print(dataclasses.replace(comment1, name='Tom'))\n",
    "print(comment1)"
   ],
   "metadata": {
    "collapsed": false
   }
  },
  {
   "cell_type": "markdown",
   "source": [
    "### field方法的使用\n",
    "大多数时候，对于简单常见的用途，前述的功能已经足够了。而有些功能需要字段提供额外的信息来启用。为了满足这种对附加信息的需求，你可以通过调用提供的 field() 函数来替换字段默认值。例如："
   ],
   "metadata": {
    "collapsed": false
   }
  },
  {
   "cell_type": "code",
   "execution_count": 19,
   "outputs": [],
   "source": [
    "from dataclasses import dataclass, field\n",
    "@dataclass\n",
    "class C:\n",
    "    name: str = field(\n",
    "        default='Tom',\n",
    "        metadata={'help': 'The name of the person'}\n",
    "    )\n",
    "    email: str = field(default=\"\")\n",
    "    comment: str = field(default='Hello')\n",
    "    replies: list[str] = field(\n",
    "        default_factory=list,\n",
    "        metadata={'help': 'The replies for the comment'},\n",
    "        compare=False\n",
    "    )\n",
    "\n"
   ],
   "metadata": {
    "collapsed": false
   }
  },
  {
   "cell_type": "code",
   "execution_count": 25,
   "outputs": [
    {
     "name": "stdout",
     "output_type": "stream",
     "text": [
      "['reply1']\n",
      "['reply1']\n",
      "2165412545280\n",
      "2165412545280\n"
     ]
    }
   ],
   "source": [
    "# 如果不使用field方法，默认值会出现一些问题，例如下面的例子，replies的默认值是一个空列表，但是当我们修改一个实例的replies时，其他实例的replies也会被修改\n",
    "# 这是因为默认值是一个可变对象，当我们修改一个实例的replies时，实际上是修改了这个可变对象，所以其他实例的replies也会被修改\n",
    "# 因此要么默认值设置为None，要么使用field方法\n",
    "@dataclass\n",
    "class C:\n",
    "    name: str = 'Tom'\n",
    "    email: str = \"\"\n",
    "    comment: str = 'Hello'\n",
    "    replies = []\n",
    "c1 = C()\n",
    "c2 = C()\n",
    "c1.replies.append('reply1') # 修改c1的replies\n",
    "print(c1.replies)\n",
    "print(c2.replies) # c2的replies也被修改了\n",
    "print(id(c1.replies))\n",
    "print(id(c2.replies))"
   ],
   "metadata": {
    "collapsed": false
   }
  },
  {
   "cell_type": "markdown",
   "source": [
    "### 题外话：NotImplemented\n",
    "NotImplemented是 Python 内置命名空间中的六个常量之一。其他还有 False, True, None, Ellipsis 和 \\_\\_debug\\_\\_,NotImplemented是 python 特殊二元方法（例如__eq__(), __lt__(), __add__(), __rsub__()）返回的特殊值，表示该操作没有针对其他类型实现。而且，它转换成 bool 类型表示 true"
   ],
   "metadata": {
    "collapsed": false
   }
  }
 ],
 "metadata": {
  "kernelspec": {
   "display_name": "Python 3",
   "language": "python",
   "name": "python3"
  },
  "language_info": {
   "codemirror_mode": {
    "name": "ipython",
    "version": 2
   },
   "file_extension": ".py",
   "mimetype": "text/x-python",
   "name": "python",
   "nbconvert_exporter": "python",
   "pygments_lexer": "ipython2",
   "version": "2.7.6"
  }
 },
 "nbformat": 4,
 "nbformat_minor": 0
}

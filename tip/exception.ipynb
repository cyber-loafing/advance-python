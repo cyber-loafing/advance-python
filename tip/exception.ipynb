{
 "cells": [
  {
   "cell_type": "markdown",
   "source": [
    "## 异常处理"
   ],
   "metadata": {
    "collapsed": false
   }
  },
  {
   "cell_type": "code",
   "execution_count": 5,
   "metadata": {
    "collapsed": true
   },
   "outputs": [
    {
     "name": "stdout",
     "output_type": "stream",
     "text": [
      "try 0/0 \n",
      "division by zero\n",
      "4\n",
      "finally\n"
     ]
    }
   ],
   "source": [
    "try:\n",
    "    # 主代码块\n",
    "    print('try 0/0 ')\n",
    "    a = 0 / 0\n",
    "    pass\n",
    "except Exception as e:\n",
    "    # 异常时，执行该块\n",
    "    print(e)\n",
    "    # 打印行数\n",
    "    print(e.__traceback__.tb_lineno)\n",
    "    ...\n",
    "else:\n",
    "    # 如果没有异常执行该块\n",
    "    print('else')\n",
    "    pass\n",
    "finally:\n",
    "    # 无论异常与否，最终执行该块\n",
    "    print('finally')\n",
    "    pass"
   ]
  },
  {
   "cell_type": "markdown",
   "source": [
    "## for...else...\n",
    "\n",
    "所谓else指的是循环正常结束后要执行的代码，即如果是bresk终止循环的情况。else下方缩进的代码将不执行。"
   ],
   "metadata": {
    "collapsed": false
   }
  },
  {
   "cell_type": "code",
   "execution_count": 9,
   "outputs": [
    {
     "name": "stdout",
     "output_type": "stream",
     "text": [
      "h e l l o \n",
      "end\n"
     ]
    }
   ],
   "source": [
    "str1 = 'hello'\n",
    "for i in str1:\n",
    "    print(i, end=' ')\n",
    "else:\n",
    "    print()\n",
    "    print('end')"
   ],
   "metadata": {
    "collapsed": false
   }
  },
  {
   "cell_type": "code",
   "execution_count": 10,
   "outputs": [
    {
     "name": "stdout",
     "output_type": "stream",
     "text": [
      "h e l "
     ]
    }
   ],
   "source": [
    "str1 = 'hello'\n",
    "for i in str1:\n",
    "    print(i, end=' ')\n",
    "    if i == 'l':\n",
    "        break\n",
    "else:\n",
    "    print()\n",
    "    print('end')"
   ],
   "metadata": {
    "collapsed": false
   }
  },
  {
   "cell_type": "code",
   "execution_count": null,
   "outputs": [],
   "source": [],
   "metadata": {
    "collapsed": false
   }
  }
 ],
 "metadata": {
  "kernelspec": {
   "display_name": "Python 3",
   "language": "python",
   "name": "python3"
  },
  "language_info": {
   "codemirror_mode": {
    "name": "ipython",
    "version": 2
   },
   "file_extension": ".py",
   "mimetype": "text/x-python",
   "name": "python",
   "nbconvert_exporter": "python",
   "pygments_lexer": "ipython2",
   "version": "2.7.6"
  }
 },
 "nbformat": 4,
 "nbformat_minor": 0
}

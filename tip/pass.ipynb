{
 "cells": [
  {
   "cell_type": "markdown",
   "source": [
    "## ...\n",
    "1. 三个点实际上是一个对象，`Ellipsis`，\n",
    "2. 在缩进代码块中等价于`pass`，表示什么也不做\n",
    "3. 在函数定义时作为默认参数"
   ],
   "metadata": {
    "collapsed": false
   }
  },
  {
   "cell_type": "code",
   "execution_count": 3,
   "metadata": {
    "collapsed": true
   },
   "outputs": [
    {
     "name": "stdout",
     "output_type": "stream",
     "text": [
      "Ellipsis\n",
      "True\n",
      "140727128477336\n",
      "140727128477336\n",
      "<class 'ellipsis'>\n"
     ]
    }
   ],
   "source": [
    "print(...)\n",
    "print(bool(...))\n",
    "print(id(Ellipsis))\n",
    "print(id(...))\n",
    "print(type(...))"
   ]
  },
  {
   "cell_type": "code",
   "execution_count": 5,
   "outputs": [
    {
     "name": "stdout",
     "output_type": "stream",
     "text": [
      "This is a beautiful object.\n",
      "23\n",
      "Ellipsis\n",
      "Ellipsis\n"
     ]
    }
   ],
   "source": [
    "def func1(a: int=...):\n",
    "    print(a)\n",
    "func1(23)  # 68\n",
    "func1()  # Ellipsis\n",
    "func1(...)  # Ellipsis"
   ],
   "metadata": {
    "collapsed": false
   }
  },
  {
   "cell_type": "markdown",
   "source": [
    "## pass\n",
    "pass语句是一个空操作语句，表示什么也不做。它常用于占位，以避免语法错误。在执行到pass语句时，程序不会有任何操作，直接跳过并继续执行下一条语句"
   ],
   "metadata": {
    "collapsed": false
   }
  }
 ],
 "metadata": {
  "kernelspec": {
   "display_name": "Python 3",
   "language": "python",
   "name": "python3"
  },
  "language_info": {
   "codemirror_mode": {
    "name": "ipython",
    "version": 2
   },
   "file_extension": ".py",
   "mimetype": "text/x-python",
   "name": "python",
   "nbconvert_exporter": "python",
   "pygments_lexer": "ipython2",
   "version": "2.7.6"
  }
 },
 "nbformat": 4,
 "nbformat_minor": 0
}

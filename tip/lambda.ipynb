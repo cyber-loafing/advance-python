{
 "cells": [
  {
   "cell_type": "markdown",
   "source": [
    "## Lambda Function\n",
    "\n",
    "lambda 函数是一种小型、匿名的、内联函数，它可以具有任意数量的参数，但只能有一个表达式。\n",
    "\n",
    "匿名函数不需要使用 def 关键字定义完整函数。lambda 函数通常用于编写简单的、单行的函数，通常在需要函数作为参数传递的情况下使用，例如在 map()、filter()、reduce() 等函数中。\n",
    "\n",
    "lambda arguments(包括单个参数以及*arg，**kwargs): expression"
   ],
   "metadata": {
    "collapsed": false
   }
  },
  {
   "cell_type": "code",
   "execution_count": 2,
   "metadata": {
    "collapsed": true
   },
   "outputs": [
    {
     "name": "stdout",
     "output_type": "stream",
     "text": [
      "15\n"
     ]
    }
   ],
   "source": [
    "f = lambda a, b: a + b\n",
    "print(f(5,10))"
   ]
  },
  {
   "cell_type": "code",
   "execution_count": 5,
   "outputs": [
    {
     "name": "stdout",
     "output_type": "stream",
     "text": [
      "6\n"
     ]
    }
   ],
   "source": [
    "f = lambda *args: sum(args)\n",
    "print(f(1, 2, 3))  # 输出: 6"
   ],
   "metadata": {
    "collapsed": false
   }
  },
  {
   "cell_type": "markdown",
   "source": [
    "lambda 函数通常与内置函数如 map()、filter() 和 reduce() 一起使用，以便在集合上执行操作。例如："
   ],
   "metadata": {
    "collapsed": false
   }
  },
  {
   "cell_type": "code",
   "execution_count": 3,
   "outputs": [
    {
     "name": "stdout",
     "output_type": "stream",
     "text": [
      "[1, 4, 9, 16, 25]\n"
     ]
    }
   ],
   "source": [
    "numbers = [1, 2, 3, 4, 5]\n",
    "squared = list(map(lambda x: x**2, numbers))\n",
    "print(squared)  # 输出: [1, 4, 9, 16, 25]"
   ],
   "metadata": {
    "collapsed": false
   }
  },
  {
   "cell_type": "code",
   "execution_count": 8,
   "outputs": [
    {
     "name": "stdout",
     "output_type": "stream",
     "text": [
      "(2.2, 2.8)\n",
      "(1.3, 4.0)\n"
     ]
    }
   ],
   "source": [
    "# 与max()函数一起使用\n",
    "num = [(1, 2.9), (1.5, 3.2), (1.3, 4.0), (2.2, 2.8)]\n",
    "x = max(num, key=lambda x: x[0]) # 按第一个元素\n",
    "print(x) # 输出: (2.2, 2.8)\n",
    "y = max(num, key=lambda x: x[1])\n",
    "print(y)  # 输出: (1.3, 4.0)"
   ],
   "metadata": {
    "collapsed": false
   }
  },
  {
   "cell_type": "code",
   "execution_count": 9,
   "outputs": [
    {
     "name": "stdout",
     "output_type": "stream",
     "text": [
      "[(1, 2.9), (1.3, 4.0), (1.5, 3.2), (2.2, 2.8)]\n"
     ]
    }
   ],
   "source": [
    "# sorted()函数\n",
    "num = [(1, 2.9), (1.5, 3.2), (1.3, 4.0), (2.2, 2.8)]\n",
    "x = sorted(num, key=lambda x: x[0]) # 按第一个元素\n",
    "print(x) # 输出: [(1, 2.9), (1.3, 4.0), (1.5, 3.2), (2.2, 2.8)]\n"
   ],
   "metadata": {
    "collapsed": false
   }
  }
 ],
 "metadata": {
  "kernelspec": {
   "display_name": "Python 3",
   "language": "python",
   "name": "python3"
  },
  "language_info": {
   "codemirror_mode": {
    "name": "ipython",
    "version": 2
   },
   "file_extension": ".py",
   "mimetype": "text/x-python",
   "name": "python",
   "nbconvert_exporter": "python",
   "pygments_lexer": "ipython2",
   "version": "2.7.6"
  }
 },
 "nbformat": 4,
 "nbformat_minor": 0
}

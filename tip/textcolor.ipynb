{
 "cells": [
  {
   "cell_type": "markdown",
   "source": [
    "## 在终端中输出彩色字体\n",
    "可以使用 ANSI 转义序列来打印不同颜色的文本。ANSI 转义序列是一种用于控制文本输出格式和颜色的特殊字符序列。下面是一个使用 ANSI 转义序列打印绿色和红色文本的示例：\n",
    "\n",
    "print(\\033[显示方式;前景色;背景色m + 打印内容 + 结尾部分：\\033[0m)"
   ],
   "metadata": {
    "collapsed": false
   }
  },
  {
   "cell_type": "code",
   "execution_count": 1,
   "metadata": {
    "collapsed": true
   },
   "outputs": [
    {
     "name": "stdout",
     "output_type": "stream",
     "text": [
      "\u001B[32mThis is green text\u001B[0m\n",
      "\u001B[31mThis is red text\u001B[0m\n"
     ]
    }
   ],
   "source": [
    "green_text = '\\033[32mThis is green text\\033[0m'\n",
    "red_text = '\\033[31mThis is red text\\033[0m'\n",
    "\n",
    "print(green_text)\n",
    "print(red_text)"
   ]
  },
  {
   "cell_type": "code",
   "execution_count": 22,
   "outputs": [
    {
     "name": "stdout",
     "output_type": "stream",
     "text": [
      "\u001B[4;32;32m=================\u001B[0m\n"
     ]
    }
   ],
   "source": [
    "def print_c(data,display=0,front=32,back=0):\n",
    "    print(f\"\\033[\"\n",
    "          f\"{display};\" # 显示方式\n",
    "          f\"{front};\" # 前景色\n",
    "          f\"{back}m\" # 背景色\n",
    "          f\"{data}\"\n",
    "          f\"\\033[0m\")\n",
    "\n",
    "print_c(\"=================\",display=4,front=32,back=32)"
   ],
   "metadata": {
    "collapsed": false
   }
  },
  {
   "cell_type": "markdown",
   "source": [
    "## 在juptyer notebook中输出彩色字体"
   ],
   "metadata": {
    "collapsed": false
   }
  },
  {
   "cell_type": "code",
   "execution_count": 24,
   "outputs": [
    {
     "data": {
      "text/plain": "<IPython.core.display.HTML object>",
      "text/html": "<font color=\"red\">这是红色的文本</font>"
     },
     "metadata": {},
     "output_type": "display_data"
    }
   ],
   "source": [
    "from IPython.display import display, HTML\n",
    "\n",
    "def print_red(text):\n",
    "    display(HTML(f'<font color=\"red\">{text}</font>'))\n",
    "print_red('这是红色的文本')"
   ],
   "metadata": {
    "collapsed": false
   }
  },
  {
   "cell_type": "code",
   "execution_count": null,
   "outputs": [],
   "source": [],
   "metadata": {
    "collapsed": false
   }
  }
 ],
 "metadata": {
  "kernelspec": {
   "display_name": "Python 3",
   "language": "python",
   "name": "python3"
  },
  "language_info": {
   "codemirror_mode": {
    "name": "ipython",
    "version": 2
   },
   "file_extension": ".py",
   "mimetype": "text/x-python",
   "name": "python",
   "nbconvert_exporter": "python",
   "pygments_lexer": "ipython2",
   "version": "2.7.6"
  }
 },
 "nbformat": 4,
 "nbformat_minor": 0
}

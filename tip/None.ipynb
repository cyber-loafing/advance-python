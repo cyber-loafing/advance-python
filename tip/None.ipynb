{
 "cells": [
  {
   "cell_type": "markdown",
   "source": [
    "## 关于None的问题\n",
    "### 为什么要用is None"
   ],
   "metadata": {
    "collapsed": false
   }
  },
  {
   "cell_type": "markdown",
   "source": [
    "我们可以看到，下面所有的例子实际上都是False的，如果我们判断时用了not xxx，那么有可能不是None而是下面列表中的其他元素，这样就会出现错误的判断。"
   ],
   "metadata": {
    "collapsed": false
   }
  },
  {
   "cell_type": "code",
   "execution_count": 2,
   "metadata": {
    "collapsed": true
   },
   "outputs": [
    {
     "name": "stdout",
     "output_type": "stream",
     "text": [
      "[]\n",
      "{}\n",
      "set()\n",
      "0\n",
      "False\n",
      "None\n",
      "\n",
      "0.0\n"
     ]
    }
   ],
   "source": [
    "import dis\n",
    "\n",
    "lst = [[],{},set(),0,False,None,'',0.0]\n",
    "for i in lst:\n",
    "    if not i:\n",
    "        print(i)"
   ]
  },
  {
   "cell_type": "code",
   "execution_count": 5,
   "outputs": [
    {
     "name": "stdout",
     "output_type": "stream",
     "text": [
      "None\n"
     ]
    }
   ],
   "source": [
    "lst = [[],{},set(),0,False,None,'',0.0]\n",
    "for i in lst:\n",
    "    if i is None:\n",
    "        print(i)"
   ],
   "metadata": {
    "collapsed": false
   }
  },
  {
   "cell_type": "code",
   "execution_count": 8,
   "outputs": [
    {
     "name": "stdout",
     "output_type": "stream",
     "text": [
      "  1           0 LOAD_NAME                0 (a)\n",
      "              2 LOAD_CONST               0 (None)\n",
      "              4 COMPARE_OP               2 (==)\n",
      "              6 RETURN_VALUE\n",
      "  1           0 LOAD_NAME                0 (a)\n",
      "              2 LOAD_CONST               0 (None)\n",
      "              4 IS_OP                    0\n",
      "              6 RETURN_VALUE\n"
     ]
    }
   ],
   "source": [
    "# 如果用==，那么会慢一些，因为它是比较值\n",
    "import dis\n",
    "dis.dis(\"a == None\") # COMPARE_OP 会慢一些，因为它是比较值\n",
    "dis.dis(\"a is None\") # IS_OP 会快一些，因为它是直接比较地址"
   ],
   "metadata": {
    "collapsed": false
   }
  },
  {
   "cell_type": "code",
   "execution_count": null,
   "outputs": [],
   "source": [],
   "metadata": {
    "collapsed": false
   }
  }
 ],
 "metadata": {
  "kernelspec": {
   "display_name": "Python 3",
   "language": "python",
   "name": "python3"
  },
  "language_info": {
   "codemirror_mode": {
    "name": "ipython",
    "version": 2
   },
   "file_extension": ".py",
   "mimetype": "text/x-python",
   "name": "python",
   "nbconvert_exporter": "python",
   "pygments_lexer": "ipython2",
   "version": "2.7.6"
  }
 },
 "nbformat": 4,
 "nbformat_minor": 0
}

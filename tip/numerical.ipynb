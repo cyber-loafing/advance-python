{
 "cells": [
  {
   "cell_type": "markdown",
   "source": [
    "## 数字表示方法拓展"
   ],
   "metadata": {
    "collapsed": false
   }
  },
  {
   "cell_type": "code",
   "execution_count": 7,
   "metadata": {
    "collapsed": true
   },
   "outputs": [],
   "source": [
    "import math\n",
    "\n",
    "# 长整型\n",
    "a = 1_000_000_000_000\n",
    "# 科学计数法\n",
    "b = 1e3 # 1 * 10^3\n",
    "# 十六进制\n",
    "c = 0x10\n",
    "# 八进制\n",
    "d = 0o1007\n",
    "# 二进制\n",
    "e = 0b1010\n",
    "# 无穷大\n",
    "f = float('inf')\n",
    "# 负无穷大\n",
    "g = float('-inf')"
   ]
  },
  {
   "cell_type": "code",
   "execution_count": 13,
   "outputs": [
    {
     "name": "stdout",
     "output_type": "stream",
     "text": [
      "1412144834544\n",
      "1412144834544\n",
      "1412215496784\n",
      "1412250463056\n"
     ]
    }
   ],
   "source": [
    "# math库中的inf更省空间\n",
    "arr = [math.inf, math.inf, float('inf'), float('inf')]\n",
    "for i in arr:\n",
    "    print(id(i))\n",
    "# 前两者的id相同，后两者的id不同"
   ],
   "metadata": {
    "collapsed": false
   }
  },
  {
   "cell_type": "code",
   "execution_count": 29,
   "outputs": [
    {
     "name": "stdout",
     "output_type": "stream",
     "text": [
      "True\n",
      "False\n",
      "True\n",
      "True\n",
      "False\n"
     ]
    },
    {
     "name": "stderr",
     "output_type": "stream",
     "text": [
      "<>:2: SyntaxWarning: \"is\" with a literal. Did you mean \"==\"?\n",
      "<>:3: SyntaxWarning: \"is\" with a literal. Did you mean \"==\"?\n",
      "<>:2: SyntaxWarning: \"is\" with a literal. Did you mean \"==\"?\n",
      "<>:3: SyntaxWarning: \"is\" with a literal. Did you mean \"==\"?\n",
      "C:\\Users\\cyberloafing\\AppData\\Local\\Temp\\ipykernel_14020\\278747429.py:2: SyntaxWarning: \"is\" with a literal. Did you mean \"==\"?\n",
      "  print(0.0 is -0.0) # False\n",
      "C:\\Users\\cyberloafing\\AppData\\Local\\Temp\\ipykernel_14020\\278747429.py:3: SyntaxWarning: \"is\" with a literal. Did you mean \"==\"?\n",
      "  print(0 is -0) # True,原因是python会将常用的整数缓存起来，-5到256之间的整数会被缓存\n"
     ]
    }
   ],
   "source": [
    "print(0.0 == -0.0) # True\n",
    "print(0.0 is -0.0) # False\n",
    "print(0 is -0) # True,原因是python会将常用的整数缓存起来，-5到256之间的整数会被缓存\n",
    "a = 256\n",
    "b = 256\n",
    "print(a is b) # True\n",
    "a = 257\n",
    "b = 257\n",
    "print(a is b) # False"
   ],
   "metadata": {
    "collapsed": false
   }
  },
  {
   "cell_type": "code",
   "execution_count": 13,
   "outputs": [],
   "source": [],
   "metadata": {
    "collapsed": false
   }
  }
 ],
 "metadata": {
  "kernelspec": {
   "display_name": "Python 3",
   "language": "python",
   "name": "python3"
  },
  "language_info": {
   "codemirror_mode": {
    "name": "ipython",
    "version": 2
   },
   "file_extension": ".py",
   "mimetype": "text/x-python",
   "name": "python",
   "nbconvert_exporter": "python",
   "pygments_lexer": "ipython2",
   "version": "2.7.6"
  }
 },
 "nbformat": 4,
 "nbformat_minor": 0
}

{
 "cells": [
  {
   "cell_type": "markdown",
   "source": [
    "## args and kwargs\n",
    "*args 和 **kwargs 是 Python 中用于处理不确定数量参数的特殊符号。它们的命名并不是固定的，在书写代码时可以自己选择。*args 表示不确定数量的非键值对的参数，可以接受任意数量的位置参数。在函数定义时使用 *args 可以将所有位置参数转为一个元组形式，并传递给函数体内的代码进行处理。\n",
    "\n",
    "**kwargs 表示不确定数量的键值对参数，可以接受任意数量的关键字参数。在函数定义时使用 **kwargs 可以将所有关键字参数转为一个字典形式，并传递给函数体内的代码进行处理。。"
   ],
   "metadata": {
    "collapsed": false
   }
  },
  {
   "cell_type": "code",
   "execution_count": 1,
   "metadata": {
    "collapsed": true
   },
   "outputs": [
    {
     "name": "stdout",
     "output_type": "stream",
     "text": [
      "(1, 2, 3, 4, 5, 6, 7, 8, 9, 10)\n",
      "{'a': 1, 'b': 2, 'c': 3, 'd': 4, 'e': 5, 'f': 6, 'g': 7, 'h': 8, 'i': 9, 'j': 10}\n"
     ]
    }
   ],
   "source": [
    "def f(*args,**kwargs):\n",
    "    print(args)\n",
    "    print(kwargs)\n",
    "\n",
    "f(1,2,3,4,5,6,7,8,9,10, a=1,b=2,c=3,d=4,e=5,f=6,g=7,h=8,i=9,j=10)"
   ]
  },
  {
   "cell_type": "markdown",
   "source": [
    "## 补充，*运算符\n",
    "1. 收集列表中的多余的值\n"
   ],
   "metadata": {
    "collapsed": false
   }
  },
  {
   "cell_type": "code",
   "execution_count": 3,
   "outputs": [
    {
     "name": "stdout",
     "output_type": "stream",
     "text": [
      "1\n",
      "[2, 3, 4]\n",
      "5\n"
     ]
    }
   ],
   "source": [
    "a, *b, c = [1, 2, 3, 4, 5]\n",
    "print(a)\n",
    "print(b)\n",
    "print(c)"
   ],
   "metadata": {
    "collapsed": false
   }
  }
 ],
 "metadata": {
  "kernelspec": {
   "display_name": "Python 3",
   "language": "python",
   "name": "python3"
  },
  "language_info": {
   "codemirror_mode": {
    "name": "ipython",
    "version": 2
   },
   "file_extension": ".py",
   "mimetype": "text/x-python",
   "name": "python",
   "nbconvert_exporter": "python",
   "pygments_lexer": "ipython2",
   "version": "2.7.6"
  }
 },
 "nbformat": 4,
 "nbformat_minor": 0
}

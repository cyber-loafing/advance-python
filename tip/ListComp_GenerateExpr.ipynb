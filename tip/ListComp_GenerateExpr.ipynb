{
 "cells": [
  {
   "cell_type": "markdown",
   "source": [
    "## 列表推导式\n",
    "列表推导式是 Python中一种快速创建和转换列表的方法。它们可以在一行代码中生成一个新的列表，使用方括号[]括起来。列表推导式可以通过对原始序列的元素进行运算或筛选来生成新的列表。"
   ],
   "metadata": {
    "collapsed": false
   }
  },
  {
   "cell_type": "code",
   "execution_count": 1,
   "metadata": {
    "collapsed": true
   },
   "outputs": [
    {
     "name": "stdout",
     "output_type": "stream",
     "text": [
      "[1, 4, 9, 16, 25, 36, 49, 64, 81, 100]\n"
     ]
    }
   ],
   "source": [
    "squares = [x ** 2 for x in range(1, 11)]\n",
    "print(squares)  # [1, 4, 9, 16, 25, 36, 49, 64, 81, 100]"
   ]
  },
  {
   "cell_type": "markdown",
   "source": [
    "## 生成器表达式\n",
    "生成器表达式是 Python中一种创建生成器的简洁语法。它们类似于列表推导式，但是使用圆括号（）而不是方括号[]。生成器表达式可以创建一个可迭代的生成器对象，用于逐个生成结果，而不是一次性生成一个完整的列表。这使得生成器表达式非常适合处理大型、无限序列或需要节省内存的情况。\n",
    "\n",
    "```\n",
    "(表达式 for 变量 in 源序列)\n",
    "(表达式 for 变量 in 源序列 if 条件)\n",
    "```\n",
    "\n",
    "从上面的例子可以看到，生成器对象有__iter__()和__next__()魔术方法，所以生成器也是迭代器，"
   ],
   "metadata": {
    "collapsed": false
   }
  },
  {
   "cell_type": "code",
   "execution_count": 10,
   "outputs": [
    {
     "name": "stdout",
     "output_type": "stream",
     "text": [
      "<generator object <genexpr> at 0x000001E2349CA500>\n",
      "['__class__', '__del__', '__delattr__', '__dir__', '__doc__', '__eq__', '__format__', '__ge__', '__getattribute__', '__gt__', '__hash__', '__init__', '__init_subclass__', '__iter__', '__le__', '__lt__', '__name__', '__ne__', '__new__', '__next__', '__qualname__', '__reduce__', '__reduce_ex__', '__repr__', '__setattr__', '__sizeof__', '__str__', '__subclasshook__', 'close', 'gi_code', 'gi_frame', 'gi_running', 'gi_yieldfrom', 'send', 'throw']\n"
     ]
    }
   ],
   "source": [
    "num = (x**2 for x in range(10))\n",
    "print(num) #<generator object <genexpr> at ???>\n",
    "print(dir(num))"
   ],
   "metadata": {
    "collapsed": false
   }
  },
  {
   "cell_type": "markdown",
   "source": [
    "既然生成器是迭代器，所以我们可以通过转换函数把它转换为元组或者列表："
   ],
   "metadata": {
    "collapsed": false
   }
  },
  {
   "cell_type": "code",
   "execution_count": 11,
   "outputs": [
    {
     "name": "stdout",
     "output_type": "stream",
     "text": [
      "(0, 1, 4, 9, 16, 25, 36, 49, 64, 81)\n",
      "[0, 1, 4, 9, 16, 25, 36, 49, 64, 81]\n"
     ]
    }
   ],
   "source": [
    "num = (x**2 for x in range(10))\n",
    "numtuple = tuple(num)\n",
    "print(numtuple)\n",
    "#(0, 1, 4, 9, 16, 25, 36, 49, 64, 81)\n",
    "\n",
    "num = (x**2 for x in range(10))\n",
    "numlist = list(num)\n",
    "print(numlist)\n",
    "#[0, 1, 4, 9, 16, 25, 36, 49, 64, 81]"
   ],
   "metadata": {
    "collapsed": false
   }
  },
  {
   "cell_type": "markdown",
   "source": [
    "注意上面的写法，第二次转换的时候我们重新生成num，如果你不重新生成，将会得到一个空的列表："
   ],
   "metadata": {
    "collapsed": false
   }
  },
  {
   "cell_type": "code",
   "execution_count": 12,
   "outputs": [
    {
     "name": "stdout",
     "output_type": "stream",
     "text": [
      "(0, 1, 4, 9, 16, 25, 36, 49, 64, 81)\n",
      "[]\n"
     ]
    }
   ],
   "source": [
    "num = (x**2 for x in range(10))\n",
    "numtuple = tuple(num)\n",
    "print(numtuple)\n",
    "#(0, 1, 4, 9, 16, 25, 36, 49, 64, 81)\n",
    "\n",
    "numlist = list(num)\n",
    "print(numlist)\n",
    "#[]"
   ],
   "metadata": {
    "collapsed": false
   }
  },
  {
   "cell_type": "markdown",
   "source": [
    "这是因为num它是一个迭代器，在将num转换为tuple的时候，这个迭代器已经迭代到末尾了，你再使用list()来转换的时候，它只能是返回一个空的列表。\n",
    "\n",
    "这就引出了元组推导式和列生成器表达式的区别，前者得到的是生成器或者迭代器，后者得到的是列表。生成器有两个特别重要的特征：\n",
    "- 惰性计算：生成器表达式是惰性计算的，只有在需要时才生成下一个元素。这使得生成器表达式非常适合处理大型数据集或无限序列。\n",
    "- 大小固定：生成器表达式不会一次性生成所有元素，因此它们的大小是固定的。一旦生成器表达式生成了所有元素，它就会被耗尽，无法再次使用。"
   ],
   "metadata": {
    "collapsed": false
   }
  },
  {
   "cell_type": "markdown",
   "source": [
    "## 生成器表达式 vs. 列表推导式\n",
    "生成器表达式和列表推导式在语法和功能上非常相似，但它们的使用场景和性能有所不同。下面是它们的比较：\n",
    "\n",
    "1. 内存占用：*生成器表达*式以惰性计算的方式逐个生成结果，只在需要时生成下一个元素，因此占用的内存较少。而*列表推导式*会一次性生成整个列表，占用的内存较大。对于处理大型数据集或无限序列的情况，使用生成器表达式可以避免内存溢出。\n",
    "2. 运行速度：*生成器表达式*的惰性计算使得它们在某些情况下比*列表推导式*更快。如果只需要使用生成器对象的部分元素，而不是整个列表，生成器表达式会更加高效。列表推导式在创建列表时需要一次性计算所有元素，因此在某些情况下会更慢。\n",
    "3. 语法：生成器表达式使用圆括号()，而列表推导式使用方括号[]。这是它们在语法上的区别，但并不影响它们的功能。"
   ],
   "metadata": {
    "collapsed": false
   }
  },
  {
   "cell_type": "code",
   "execution_count": 5,
   "outputs": [
    {
     "name": "stdout",
     "output_type": "stream",
     "text": [
      "生成器表达式的运行时间：0.0秒\n",
      "列表推导式的运行时间：0.2411341667175293秒\n"
     ]
    }
   ],
   "source": [
    "import time\n",
    "\n",
    "start_time = time.time()\n",
    "squares_gen = (x ** 2 for x in range(1, 1000001))\n",
    "end_time = time.time()\n",
    "gen_time = end_time - start_time\n",
    "\n",
    "start_time = time.time()\n",
    "squares_list = [x ** 2 for x in range(1, 1000001)]\n",
    "end_time = time.time()\n",
    "list_time = end_time - start_time\n",
    "\n",
    "print(\"生成器表达式的运行时间：{}秒\".format(gen_time))\n",
    "print(\"列表推导式的运行时间：{}秒\".format(list_time))"
   ],
   "metadata": {
    "collapsed": false
   }
  }
 ],
 "metadata": {
  "kernelspec": {
   "name": "my_llm",
   "language": "python",
   "display_name": "my_llm"
  },
  "language_info": {
   "codemirror_mode": {
    "name": "ipython",
    "version": 2
   },
   "file_extension": ".py",
   "mimetype": "text/x-python",
   "name": "python",
   "nbconvert_exporter": "python",
   "pygments_lexer": "ipython2",
   "version": "2.7.6"
  }
 },
 "nbformat": 4,
 "nbformat_minor": 0
}

{
 "cells": [
  {
   "cell_type": "markdown",
   "source": [
    "## 海象运算符(Assignment Operators)"
   ],
   "metadata": {
    "collapsed": false
   }
  },
  {
   "cell_type": "code",
   "execution_count": 3,
   "metadata": {
    "collapsed": true
   },
   "outputs": [
    {
     "name": "stdout",
     "output_type": "stream",
     "text": [
      "List is too long (12 elements, expected <= 10)\n"
     ]
    }
   ],
   "source": [
    "a = \"Hello world!\"\n",
    "if (n := len(a)) > 10:\n",
    "    print(f\"List is too long ({n} elements, expected <= 10)\")\n",
    "# 上面的好处是不用重复计算len(a)的值"
   ]
  },
  {
   "cell_type": "code",
   "execution_count": 7,
   "outputs": [
    {
     "name": "stdout",
     "output_type": "stream",
     "text": [
      "[65, 66, 67]\n"
     ]
    },
    {
     "data": {
      "text/plain": "67"
     },
     "execution_count": 7,
     "metadata": {},
     "output_type": "execute_result"
    }
   ],
   "source": [
    "# 比如我想取出一个列表的最后一个元素，同时我需要遍历这个列表\n",
    "# 使用:=可以很方便的实现,少一步codes[-1]的操作\n",
    "x = 'ABC'\n",
    "codes = [last := ord(c) for c in x]\n",
    "print(codes)\n",
    "last"
   ],
   "metadata": {
    "collapsed": false
   }
  },
  {
   "cell_type": "code",
   "execution_count": null,
   "outputs": [],
   "source": [],
   "metadata": {
    "collapsed": false
   }
  }
 ],
 "metadata": {
  "kernelspec": {
   "display_name": "Python 3",
   "language": "python",
   "name": "python3"
  },
  "language_info": {
   "codemirror_mode": {
    "name": "ipython",
    "version": 2
   },
   "file_extension": ".py",
   "mimetype": "text/x-python",
   "name": "python",
   "nbconvert_exporter": "python",
   "pygments_lexer": "ipython2",
   "version": "2.7.6"
  }
 },
 "nbformat": 4,
 "nbformat_minor": 0
}
